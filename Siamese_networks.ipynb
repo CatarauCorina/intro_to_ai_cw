{
 "cells": [
  {
   "cell_type": "code",
   "execution_count": 1,
   "metadata": {},
   "outputs": [],
   "source": [
    "import numpy as np\n",
    "import tensorflow.keras as ks\n",
    "from tensorflow.keras.datasets import mnist\n",
    "from tensorflow.keras.utils import to_categorical\n",
    "#import pydot\n",
    "(X_train, Y_train), (X_test, Y_test) = mnist.load_data()"
   ]
  },
  {
   "cell_type": "code",
   "execution_count": 2,
   "metadata": {},
   "outputs": [
    {
     "data": {
      "text/plain": [
       "(60000, 28, 28)"
      ]
     },
     "execution_count": 2,
     "metadata": {},
     "output_type": "execute_result"
    }
   ],
   "source": [
    "X_train.shape"
   ]
  },
  {
   "cell_type": "code",
   "execution_count": 3,
   "metadata": {},
   "outputs": [],
   "source": [
    "class DataPreprocessor:\n",
    "    \n",
    "    def __init__(self, X_train,X_test, Y_train, Y_test):\n",
    "        self.X_train = X_train\n",
    "        self.X_test = X_test\n",
    "        self.Y_train = Y_train\n",
    "        self.Y_test = Y_test\n",
    "        return\n",
    "    \n",
    "    def preprocess_data(self):\n",
    "        self.X_train = self.X_train.reshape(60000,28,28,1)\n",
    "        self.X_test = self.X_test.reshape(10000,28,28,1)\n",
    "        return self\n",
    "    \n",
    "    def turn_output_data_to_categorical(self):\n",
    "        self.Y_train = to_categorical(self.Y_train)\n",
    "        self.Y_test = to_categorical(self.Y_test)\n",
    "        return self\n",
    "    \n",
    "    def __getitem__(self):\n",
    "        return self.X_train, self.X_test, self.Y_train, self.Y_test\n",
    "\n",
    "\n",
    "        "
   ]
  },
  {
   "cell_type": "code",
   "execution_count": 4,
   "metadata": {},
   "outputs": [
    {
     "data": {
      "text/plain": [
       "<__main__.DataPreprocessor at 0x641094310>"
      ]
     },
     "execution_count": 4,
     "metadata": {},
     "output_type": "execute_result"
    }
   ],
   "source": [
    "data_preproc = DataPreprocessor(X_train, X_test, Y_train, Y_test)\n",
    "data_preproc.preprocess_data().turn_output_data_to_categorical()"
   ]
  },
  {
   "cell_type": "code",
   "execution_count": 5,
   "metadata": {},
   "outputs": [
    {
     "name": "stdout",
     "output_type": "stream",
     "text": [
      "2955\n"
     ]
    },
    {
     "data": {
      "text/plain": [
       "(28, 28, 1)"
      ]
     },
     "execution_count": 5,
     "metadata": {},
     "output_type": "execute_result"
    }
   ],
   "source": [
    "from random import randrange\n",
    "\n",
    "i = randrange(len(X_test))\n",
    "print(i)\n",
    "data_preproc.X_test[i].shape"
   ]
  },
  {
   "cell_type": "code",
   "execution_count": 6,
   "metadata": {},
   "outputs": [
    {
     "data": {
      "text/plain": [
       "tensorflow.python.framework.ops.Tensor"
      ]
     },
     "execution_count": 6,
     "metadata": {},
     "output_type": "execute_result"
    }
   ],
   "source": [
    "type(ks.layers.Input(data_preproc.X_test[i].shape))"
   ]
  },
  {
   "cell_type": "code",
   "execution_count": 10,
   "metadata": {},
   "outputs": [],
   "source": [
    "from tensorflow.keras import Sequential\n",
    "from tensorflow.keras.utils import plot_model\n",
    "from tensorflow.keras.layers import Conv2D, Dense, Flatten, MaxPool2D,Input\n",
    "\n",
    "def create_siamese_network(image_shape):\n",
    "    \n",
    "    #input images tensors\n",
    "    image_one = ks.Input(image_shape)\n",
    "    image_two = ks.Input(image_shape)\n",
    "    #print(image_shape)\n",
    "    #CNN\n",
    "    model_1 = Sequential()\n",
    "    model_1.add(Conv2D(64, kernel_size=10, activation='relu', input_shape=image_shape))\n",
    "    model_1.add(MaxPool2D(pool_size=2,strides=2))\n",
    "    model_1.add(Conv2D(128, kernel_size=3, activation='relu'))\n",
    "    #model.add(MaxPool2D(pool_size=2,strides=2))\n",
    "    #model.add(Conv2D(128, kernel_size=3, activation='relu'))\n",
    "    #model.add(MaxPool2D(pool_size=2,strides=2))\n",
    "    #model.add(Conv2D(256, kernel_size=3, activation='relu'))\n",
    "    model_1.add(Flatten())\n",
    "    model_1.add(Dense(7, activation='sigmoid'))\n",
    "    \n",
    "    model_2 = Sequential()\n",
    "    model_2.add(Conv2D(64, kernel_size=10, activation='relu', input_shape=image_shape))\n",
    "    model_2.add(MaxPool2D(pool_size=2,strides=2))\n",
    "    model_2.add(Conv2D(128, kernel_size=3, activation='relu'))\n",
    "    #model.add(MaxPool2D(pool_size=2,strides=2))\n",
    "    #model.add(Conv2D(128, kernel_size=3, activation='relu'))\n",
    "    #model.add(MaxPool2D(pool_size=2,strides=2))\n",
    "    #model.add(Conv2D(256, kernel_size=3, activation='relu'))\n",
    "    model_2.add(Flatten())\n",
    "    model_2.add(Dense(7, activation='sigmoid'))\n",
    "    \n",
    "    #plot_model(model)\n",
    "    \n",
    "    #Siamese networks predictions\n",
    "    y_hat_one = model_1(image_one)\n",
    "    print(type(y_hat_one))\n",
    "    y_hat_two = model_2(image_two)\n",
    "        \n",
    "    #Adding layer to compute siaemese networks distance\n",
    "    distance_computation = ks.layers.Lambda(lambda tensors: ks.backend.abs(tensors[0] - tensors[1]))\n",
    "    images_distance = distance_computation([y_hat_one, y_hat_two])\n",
    "    \n",
    "    #Dense layer\n",
    "    y_hat = Dense(1, activation = 'sigmoid')(images_distance)\n",
    "    \n",
    "    #inputs & outputs\n",
    "    siamese_net = ks.Model(inputs= [image_one, image_two], outputs = y_hat)\n",
    "    \n",
    "    return siamese_net"
   ]
  },
  {
   "cell_type": "code",
   "execution_count": 11,
   "metadata": {},
   "outputs": [
    {
     "name": "stdout",
     "output_type": "stream",
     "text": [
      "<class 'tensorflow.python.framework.ops.Tensor'>\n"
     ]
    }
   ],
   "source": [
    "siamese_net = create_siamese_network(data_preproc.X_test[0].shape)\n",
    "#plot_model(model)"
   ]
  },
  {
   "cell_type": "code",
   "execution_count": 12,
   "metadata": {},
   "outputs": [
    {
     "name": "stdout",
     "output_type": "stream",
     "text": [
      "<class 'tensorflow.python.framework.ops.Tensor'>\n"
     ]
    }
   ],
   "source": [
    "model = create_siamese_network((28, 28, 1))\n",
    "\n",
    "optimizer = ks.optimizers.Adam(lr = 0.00006)\n",
    "\n",
    "model.compile(loss = 'binary_crossentropy', optimizer = optimizer)"
   ]
  },
  {
   "cell_type": "code",
   "execution_count": null,
   "metadata": {},
   "outputs": [],
   "source": []
  }
 ],
 "metadata": {
  "kernelspec": {
   "display_name": "Python 3",
   "language": "python",
   "name": "python3"
  },
  "language_info": {
   "codemirror_mode": {
    "name": "ipython",
    "version": 3
   },
   "file_extension": ".py",
   "mimetype": "text/x-python",
   "name": "python",
   "nbconvert_exporter": "python",
   "pygments_lexer": "ipython3",
   "version": "3.7.4"
  }
 },
 "nbformat": 4,
 "nbformat_minor": 2
}
